{
 "cells": [
  {
   "attachments": {},
   "cell_type": "markdown",
   "id": "c4b68608",
   "metadata": {},
   "source": [
    "# Data Science tools and ecosystem\n",
    "\n",
    "\n",
    "\n",
    "\n",
    " "
   ]
  },
  {
   "attachments": {},
   "cell_type": "markdown",
   "id": "db8f3784",
   "metadata": {},
   "source": [
    "In this notebook,Data Science and ecosystem is summarized"
   ]
  },
  {
   "cell_type": "markdown",
   "id": "bff0a086",
   "metadata": {},
   "source": [
    "Some Popular Data Science Languages are:\n",
    "1. Python\n",
    "2. R\n",
    "3. Scala"
   ]
  },
  {
   "cell_type": "markdown",
   "id": "da1fb158",
   "metadata": {},
   "source": [
    "Some Commonly Used Data Science libraries are\n",
    "Ordered List:\n",
    "1. Tensor Flow\n",
    "2. Pytorch"
   ]
  },
  {
   "cell_type": "code",
   "execution_count": null,
   "id": "bd11867d",
   "metadata": {},
   "outputs": [],
   "source": [
    "|Data Science Tools|\n",
    "|Jupyter|\n",
    "|Anacoda|\n",
    "|R studio| "
   ]
  },
  {
   "cell_type": "markdown",
   "id": "f3e3e68d",
   "metadata": {},
   "source": [
    "### Below are few example of evalauting arthimatic Expression"
   ]
  },
  {
   "cell_type": "code",
   "execution_count": 1,
   "id": "d151f291",
   "metadata": {},
   "outputs": [
    {
     "data": {
      "text/plain": [
       "17"
      ]
     },
     "execution_count": 1,
     "metadata": {},
     "output_type": "execute_result"
    }
   ],
   "source": [
    "(3*4)+5\n",
    "#this is simple arithematic expression multiply then addition\n"
   ]
  },
  {
   "cell_type": "markdown",
   "id": "3ab52e7e",
   "metadata": {},
   "source": []
  },
  {
   "cell_type": "code",
   "execution_count": 2,
   "id": "74a7880c",
   "metadata": {},
   "outputs": [
    {
     "data": {
      "text/plain": [
       "3.3333333333333335"
      ]
     },
     "execution_count": 2,
     "metadata": {},
     "output_type": "execute_result"
    }
   ],
   "source": [
    "#convert 200 minutes to hours\n",
    "200/60"
   ]
  },
  {
   "cell_type": "markdown",
   "id": "f705dc83",
   "metadata": {},
   "source": [
    "# Objectives\n",
    "\n",
    "( - ) Python\n",
    "( - ) R\n",
    "( - ) Pytorch\n",
    "( - ) TenserFlow"
   ]
  },
  {
   "cell_type": "markdown",
   "id": "24d8ad59",
   "metadata": {},
   "source": [
    "## Lakshmi Holla\n",
    "## Niveditha pandit\n",
    "Fakiha Balouch"
   ]
  }
 ],
 "metadata": {
  "kernelspec": {
   "display_name": "Python 3 (ipykernel)",
   "language": "python",
   "name": "python3"
  },
  "language_info": {
   "codemirror_mode": {
    "name": "ipython",
    "version": 3
   },
   "file_extension": ".py",
   "mimetype": "text/x-python",
   "name": "python",
   "nbconvert_exporter": "python",
   "pygments_lexer": "ipython3",
   "version": "3.10.9"
  }
 },
 "nbformat": 4,
 "nbformat_minor": 5
}
